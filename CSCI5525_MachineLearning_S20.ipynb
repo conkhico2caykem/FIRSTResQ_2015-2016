{
  "nbformat": 4,
  "nbformat_minor": 0,
  "metadata": {
    "colab": {
      "name": "CSCI5525-MachineLearning-S20.ipynb",
      "provenance": [],
      "collapsed_sections": [
        "O3TVwshVyRqj",
        "yyL5UsV1lZWM"
      ],
      "toc_visible": true,
      "authorship_tag": "ABX9TyOHgCOLLDUr+Bh3p7b1SPEq",
      "include_colab_link": true
    },
    "kernelspec": {
      "name": "python3",
      "display_name": "Python 3"
    }
  },
  "cells": [
    {
      "cell_type": "markdown",
      "metadata": {
        "id": "view-in-github",
        "colab_type": "text"
      },
      "source": [
        "<a href=\"https://colab.research.google.com/github/conkhico2caykem/FIRSTResQ_2015-2016/blob/master/CSCI5525_MachineLearning_S20.ipynb\" target=\"_parent\"><img src=\"https://colab.research.google.com/assets/colab-badge.svg\" alt=\"Open In Colab\"/></a>"
      ]
    },
    {
      "cell_type": "markdown",
      "metadata": {
        "id": "O3TVwshVyRqj",
        "colab_type": "text"
      },
      "source": [
        "# Homework 1 Problem 6\n"
      ]
    },
    {
      "cell_type": "code",
      "metadata": {
        "id": "oCsoBkb3yZrj",
        "colab_type": "code",
        "outputId": "ebfc362a-c843-4992-830f-38f22d83a04b",
        "colab": {
          "base_uri": "https://localhost:8080/",
          "height": 295
        }
      },
      "source": [
        "import numpy as np\n",
        "import matplotlib.pyplot as plt\n",
        "import matplotlib\n",
        "import pandas\n",
        "\n",
        "iterations = 500  # define number of iterations\n",
        "\n",
        "\n",
        "# Compute Least Squares by closed form\n",
        "def lsq(A, b):\n",
        "    A_trans = np.matrix.transpose(A)\n",
        "    left = np.matmul(A_trans, A)   # calc AtA\n",
        "    right = np.matmul(A_trans, b)  # calc Atb\n",
        "    w = np.matmul(np.linalg.inv(left), right)     # calc w\n",
        "    return w\n",
        "\n",
        "\n",
        "# Compute Least Squares by Richardson algorithm\n",
        "def lsq_iter(A, b):\n",
        "    mu = 1/((np.linalg.norm(A))**2)  # calculates mu\n",
        "    prev_w = np.zeros((10, 1))        # initial w value\n",
        "    w_storage = prev_w   # array to store the w values for graphing later\n",
        "    A_trans = np.matrix.transpose(A)\n",
        "\n",
        "    # loops through iterations\n",
        "    for i in range(0, iterations):\n",
        "        # calculate the new w\n",
        "        A_w = np.matmul(A, prev_w)\n",
        "        curr_w = prev_w - np.matmul(mu * np.matrix.transpose(A), A_w - b)\n",
        "        # update the prev w value\n",
        "        prev_w = curr_w\n",
        "        # add new w to storage array\n",
        "        w_storage = np.append(w_storage, curr_w, axis=1)\n",
        "    return curr_w, w_storage\n",
        "\n",
        "A = np.random.rand(20, 10)\n",
        "b = np.random.rand(20, 1)\n",
        "\n",
        "lsq_w = lsq(A, b)\n",
        "(lsq_iter_w, new_w_storage) = lsq_iter(A, b)\n",
        "\n",
        "x = []\n",
        "y = range(0, 500)\n",
        "\n",
        "for i in range(0, iterations):\n",
        "    wk = new_w_storage[:, i]\n",
        "    wk = np.reshape(wk, (10, 1))\n",
        "    w_norm = np.linalg.norm(wk - lsq_w)\n",
        "    x = np.append(x, w_norm)\n",
        "\n",
        "fig = plt.figure()\n",
        "ax = plt.axes()\n",
        "plt.title(\"Comparison of Closed Loop and Richardson Algorithm\")\n",
        "plt.xlabel(\"Iteration #\")\n",
        "plt.ylabel(\"Distance between calculated w values\")\n",
        "plt.plot(y, x)\n"
      ],
      "execution_count": 0,
      "outputs": [
        {
          "output_type": "display_data",
          "data": {
            "image/png": "[encoded data removed]",
            "text/plain": [
              "<Figure size 432x288 with 1 Axes>"
            ]
          },
          "metadata": {
            "tags": []
          }
        }
      ]
    },
    {
      "cell_type": "markdown",
      "metadata": {
        "id": "yyL5UsV1lZWM",
        "colab_type": "text"
      },
      "source": [
        "# Homework 1 Problem 7"
      ]
    },
    {
      "cell_type": "code",
      "metadata": {
        "id": "UFyes6o6ldqZ",
        "colab_type": "code",
        "colab": {}
      },
      "source": [
        "import numpy as np\n",
        "import matplotlib.pyplot as plt\n",
        "import matplotlib\n",
        "import pandas\n",
        "\n"
      ],
      "execution_count": 0,
      "outputs": []
    },
    {
      "cell_type": "markdown",
      "metadata": {
        "id": "6pv3DQL8LNcr",
        "colab_type": "text"
      },
      "source": [
        "# Homework 2 Problem 4\n"
      ]
    },
    {
      "cell_type": "code",
      "metadata": {
        "id": "tI5-ElMsLWgx",
        "colab_type": "code",
        "colab": {}
      },
      "source": [
        "import numpy as np\n",
        "import matplotlib.pyplot as plt\n",
        "import matplotlib\n",
        "import pandas\n",
        "import cvxopt\n",
        "\n",
        "\n",
        "# Train model\n",
        "def svmfit(X, y, c):\n",
        "\n",
        "  return 0\n",
        "\n",
        "\n",
        "# Predict labels using the model\n",
        "def predict(X,weight):\n",
        "\n",
        "  return 0\n",
        "\n",
        "\n",
        "# Realize K-fold cross validation\n",
        "def k_fold_cv(train_data, test_data, k, c)"
      ],
      "execution_count": 0,
      "outputs": []
    },
    {
      "cell_type": "markdown",
      "metadata": {
        "id": "M-d4pOdhLbnE",
        "colab_type": "text"
      },
      "source": [
        "# Homework 2 Problem 5"
      ]
    },
    {
      "cell_type": "code",
      "metadata": {
        "id": "7birosm2LgDl",
        "colab_type": "code",
        "colab": {}
      },
      "source": [
        "import numpy as np\n",
        "import matplotlib.pyplot as plt\n",
        "import matplotlib\n",
        "import pandas\n",
        "import cvxopt\n",
        "\n",
        "\n",
        "# train model \n",
        "def rbf_svm_train(X, y, c, sigma):\n",
        "\n",
        "  return 0\n",
        "\n",
        "\n",
        "# predict labels\n",
        "def predict(test_X, train_Y, train_y, alpha, sigma):\n",
        "\n",
        "  return 0\n"
      ],
      "execution_count": 0,
      "outputs": []
    },
    {
      "cell_type": "markdown",
      "metadata": {
        "id": "Yrrno0bhLbs7",
        "colab_type": "text"
      },
      "source": [
        "# Homework 2 Problem 6\n"
      ]
    },
    {
      "cell_type": "code",
      "metadata": {
        "id": "o7H8mwjJLix5",
        "colab_type": "code",
        "colab": {}
      },
      "source": [
        "import numpy as np\n",
        "import matplotlib.pyplot as plt\n",
        "import matplotlib\n",
        "import pandas\n",
        "import cvxopt\n",
        "\n",
        "\n",
        "# train model \n",
        "def mnist_train(X, y, learn_rate):\n",
        "\n",
        "  return 0\n",
        "\n",
        "\n",
        "# predict labels\n",
        "def mnist_predict(weight, X):\n",
        "\n",
        "  return 0"
      ],
      "execution_count": 0,
      "outputs": []
    },
    {
      "cell_type": "markdown",
      "metadata": {
        "id": "FgQFtYXgLcwS",
        "colab_type": "text"
      },
      "source": [
        "# Homework 2 Problem 7"
      ]
    },
    {
      "cell_type": "code",
      "metadata": {
        "id": "soeV-dwSLk26",
        "colab_type": "code",
        "colab": {}
      },
      "source": [
        "import numpy as np\n",
        "import matplotlib.pyplot as plt\n",
        "import matplotlib\n",
        "import pandas\n",
        "import cvxopt\n",
        "\n",
        "\n",
        "# train model \n",
        "def mnist_svm_train(X, y, learn_rate):\n",
        "\n",
        "  return 0\n",
        "\n",
        "\n",
        "# predict labels\n",
        "def mnist_svm_predict(weights, X):\n",
        "\n",
        "  return 0"
      ],
      "execution_count": 0,
      "outputs": []
    }
  ]
}